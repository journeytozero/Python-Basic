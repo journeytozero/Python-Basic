{
  "nbformat": 4,
  "nbformat_minor": 0,
  "metadata": {
    "colab": {
      "provenance": []
    },
    "kernelspec": {
      "name": "python3",
      "display_name": "Python 3"
    },
    "language_info": {
      "name": "python"
    }
  },
  "cells": [
    {
      "cell_type": "markdown",
      "source": [
        "Email : **merajul.islam.khan.bd@gmail.com**"
      ],
      "metadata": {
        "id": "YthjNPdNHW2J"
      }
    },
    {
      "cell_type": "code",
      "source": [
        "# You must run this code and use that data set for all the questions\n",
        "import numpy as np\n",
        "import pandas as pd\n",
        "\n",
        "np.random.seed(42)\n",
        "\n",
        "ids = np.arange(1, 11)\n",
        "ages = np.random.randint(18, 60, 10)\n",
        "salaries = np.random.randint(30000, 90000, 10)\n",
        "departments = np.array([\"HR\", \"IT\", \"Finance\", \"IT\", \"HR\", \"Sales\", \"Finance\", \"IT\", \"Sales\", \"HR\"])\n",
        "\n",
        "DF = pd.DataFrame({\n",
        "\"id\": ids,\n",
        "\"age\": ages,\n",
        "\"salary\": salaries,\n",
        "\"dept\": departments\n",
        "})\n",
        "\n",
        "DF.to_csv(\"employees.csv\", index=False)\n",
        "print(\"Sample Data Created and Saved as employees.csv\")\n"
      ],
      "metadata": {
        "colab": {
          "base_uri": "https://localhost:8080/"
        },
        "id": "u6U9xR2GIHDn",
        "outputId": "36987149-028b-4923-be61-8b130321a937"
      },
      "execution_count": 1,
      "outputs": [
        {
          "output_type": "stream",
          "name": "stdout",
          "text": [
            "Sample Data Created and Saved as employees.csv\n"
          ]
        }
      ]
    },
    {
      "cell_type": "markdown",
      "source": [
        "### Answer To The Q1"
      ],
      "metadata": {
        "id": "2bphGq3eIPx3"
      }
    },
    {
      "cell_type": "markdown",
      "source": [
        "Q1. Create NumPy arrays from the ages and salaries data generated above. Print both arrays and display their dtype, ndim, shape, and size."
      ],
      "metadata": {
        "id": "Yhy0f2ZYIuK0"
      }
    },
    {
      "cell_type": "code",
      "source": [
        "npage = np.array(ages)\n",
        "npsalari = np.array(salaries)\n",
        "print(npage)\n",
        "print(npsalari)\n",
        "\n",
        "print(npage.dtype)\n",
        "print(npsalari.dtype)\n",
        "\n",
        "print(npage.ndim)\n",
        "print(npsalari.ndim)\n",
        "\n",
        "print(npage.shape)\n",
        "print(npsalari.shape)\n",
        "\n",
        "print(npage.size)\n",
        "print(npsalari.size)"
      ],
      "metadata": {
        "colab": {
          "base_uri": "https://localhost:8080/"
        },
        "id": "37F-_tJgIznR",
        "outputId": "151e8b88-41f0-436b-b997-a00772136201"
      },
      "execution_count": 2,
      "outputs": [
        {
          "output_type": "stream",
          "name": "stdout",
          "text": [
            "[56 46 32 25 38 56 36 40 28 28]\n",
            "[77191 74131 46023 71090 31685 30769 89735 86101 32433 35311]\n",
            "int64\n",
            "int64\n",
            "1\n",
            "1\n",
            "(10,)\n",
            "(10,)\n",
            "10\n",
            "10\n"
          ]
        }
      ]
    },
    {
      "cell_type": "markdown",
      "source": [
        "## Answer Of Q2"
      ],
      "metadata": {
        "id": "l_wMoiiwKfWQ"
      }
    },
    {
      "cell_type": "markdown",
      "source": [
        "Q2. Using the salaries array, find and print the highest and lowest salary values. Also, calculate and print the average salary and age using NumPy functions.\n"
      ],
      "metadata": {
        "id": "0dNrGqsZKxND"
      }
    },
    {
      "cell_type": "code",
      "source": [
        "sal = np.array(salaries)\n",
        "msal = max(sal)\n",
        "mnsal = min(sal)\n",
        "print(f\"Max Salary: {msal}\")\n",
        "print(f\"Min Salary: {mnsal}\")\n",
        "\n",
        "avsal = np.average(sal)\n",
        "avag = np.average(npage)\n",
        "\n",
        "print(f\"Average Salaray: {avsal}\")\n",
        "print(f\"Average Age: {avag}\")"
      ],
      "metadata": {
        "colab": {
          "base_uri": "https://localhost:8080/"
        },
        "id": "bV5mW5acK17_",
        "outputId": "791b0018-d612-4801-a0b5-a25698578c3c"
      },
      "execution_count": 3,
      "outputs": [
        {
          "output_type": "stream",
          "name": "stdout",
          "text": [
            "Max Salary: 89735\n",
            "Min Salary: 30769\n",
            "Average Salaray: 57446.9\n",
            "Average Age: 38.5\n"
          ]
        }
      ]
    },
    {
      "cell_type": "markdown",
      "source": [
        "## Answer Of Q3"
      ],
      "metadata": {
        "id": "-ZbuSswZWVS4"
      }
    },
    {
      "cell_type": "markdown",
      "source": [
        " From the ages array, filter and print all ages greater than 30 using a boolean condition. Then count and print how many employees are older than 30.\n"
      ],
      "metadata": {
        "id": "LlJrW0jeWs24"
      }
    },
    {
      "cell_type": "code",
      "source": [
        "fage = npage[npage > 30]\n",
        "print(fage)\n",
        "print(f\"Employees older than 30: {fage.size}\")"
      ],
      "metadata": {
        "colab": {
          "base_uri": "https://localhost:8080/"
        },
        "id": "sILagP5AWexI",
        "outputId": "11dfb8ad-3472-4d87-e78b-beaadac132c2"
      },
      "execution_count": 4,
      "outputs": [
        {
          "output_type": "stream",
          "name": "stdout",
          "text": [
            "[56 46 32 38 56 36 40]\n",
            "Employees older than 30: 7\n"
          ]
        }
      ]
    },
    {
      "cell_type": "markdown",
      "source": [
        "## Answer Of Q4"
      ],
      "metadata": {
        "id": "pz_evvSZbAgp"
      }
    },
    {
      "cell_type": "markdown",
      "source": [
        "Q4. Create a new NumPy array that increases every employee’s age by 5 years (without modifying the original array). Print the new updated ages array.\n"
      ],
      "metadata": {
        "id": "RC9X1IW0bN2r"
      }
    },
    {
      "cell_type": "code",
      "source": [
        "upage = npage + 5\n",
        "print(upage)\n",
        "# print(npage)"
      ],
      "metadata": {
        "colab": {
          "base_uri": "https://localhost:8080/"
        },
        "id": "BAF6RCoebMDE",
        "outputId": "f97b3248-d818-43d6-d51e-e55ad6ba2ee2"
      },
      "execution_count": 5,
      "outputs": [
        {
          "output_type": "stream",
          "name": "stdout",
          "text": [
            "[61 51 37 30 43 61 41 45 33 33]\n"
          ]
        }
      ]
    },
    {
      "cell_type": "markdown",
      "source": [
        "## Answer Of Q5"
      ],
      "metadata": {
        "id": "noC-bX_vbyfo"
      }
    },
    {
      "cell_type": "markdown",
      "source": [
        " Q5. Using NumPy, calculate the total salary expense (sum of all salaries) and the difference between the maximum and minimum salary. Print both results.\n"
      ],
      "metadata": {
        "id": "yDXX20edb4Mv"
      }
    },
    {
      "cell_type": "code",
      "source": [
        "tsal = np.sum(npsalari)\n",
        "mxsal = np.max(npsalari);\n",
        "mnsal = np.min(npsalari)\n",
        "print(tsal)\n",
        "print(mxsal - mnsal)"
      ],
      "metadata": {
        "colab": {
          "base_uri": "https://localhost:8080/"
        },
        "id": "lKFapIqXb9v1",
        "outputId": "f63cd9e5-8ff7-480c-ee73-39dc58b727ea"
      },
      "execution_count": 6,
      "outputs": [
        {
          "output_type": "stream",
          "name": "stdout",
          "text": [
            "574469\n",
            "58966\n"
          ]
        }
      ]
    },
    {
      "cell_type": "markdown",
      "source": [
        "## Answer of Q6"
      ],
      "metadata": {
        "id": "Z-FGrmLanNeN"
      }
    },
    {
      "cell_type": "markdown",
      "source": [
        "Q6. Load the employees.csv file into a Pandas DataFrame. Display the first 5 rows, and check basic info using info() and summary statistics using describe().\n"
      ],
      "metadata": {
        "id": "MTKBnZSwnTud"
      }
    },
    {
      "cell_type": "code",
      "source": [
        "df = pd.read_csv(\"employees.csv\")\n",
        "print(df.head())\n",
        "\n",
        "print(\"Dataframe Info: \",df.info())\n",
        "\n",
        "print(\"Dataframe Describe\",df.describe())"
      ],
      "metadata": {
        "colab": {
          "base_uri": "https://localhost:8080/"
        },
        "id": "emJQZZ5XnY0a",
        "outputId": "d57bfdca-bf98-4ef6-c01c-ee97d19f3c4b"
      },
      "execution_count": 18,
      "outputs": [
        {
          "output_type": "stream",
          "name": "stdout",
          "text": [
            "   id  age  salary     dept\n",
            "0   1   56   77191       HR\n",
            "1   2   46   74131       IT\n",
            "2   3   32   46023  Finance\n",
            "3   4   25   71090       IT\n",
            "4   5   38   31685       HR\n",
            "<class 'pandas.core.frame.DataFrame'>\n",
            "RangeIndex: 10 entries, 0 to 9\n",
            "Data columns (total 4 columns):\n",
            " #   Column  Non-Null Count  Dtype \n",
            "---  ------  --------------  ----- \n",
            " 0   id      10 non-null     int64 \n",
            " 1   age     10 non-null     int64 \n",
            " 2   salary  10 non-null     int64 \n",
            " 3   dept    10 non-null     object\n",
            "dtypes: int64(3), object(1)\n",
            "memory usage: 452.0+ bytes\n",
            "Dataframe Info:  None\n",
            "Dataframe Describe              id       age        salary\n",
            "count  10.00000  10.00000     10.000000\n",
            "mean    5.50000  38.50000  57446.900000\n",
            "std     3.02765  11.16791  24357.262884\n",
            "min     1.00000  25.00000  30769.000000\n",
            "25%     3.25000  29.00000  33152.500000\n",
            "50%     5.50000  37.00000  58556.500000\n",
            "75%     7.75000  44.50000  76426.000000\n",
            "max    10.00000  56.00000  89735.000000\n"
          ]
        }
      ]
    },
    {
      "cell_type": "markdown",
      "source": [
        "## Answer Of Q7"
      ],
      "metadata": {
        "id": "ZQLE_fN5prgG"
      }
    },
    {
      "cell_type": "markdown",
      "source": [
        "Q7. Display only the id, age, and salary columns. Then show the last 3 rows using tail().\n"
      ],
      "metadata": {
        "id": "aOr-gFLtpxZi"
      }
    },
    {
      "cell_type": "code",
      "source": [
        "sdf = df[[\"id\",'age','salary']]\n",
        "print(sdf)\n",
        "\n",
        "print(sdf.tail(3))"
      ],
      "metadata": {
        "colab": {
          "base_uri": "https://localhost:8080/"
        },
        "id": "LcEYg-4gpzpW",
        "outputId": "9ed82023-d7f0-41ac-fc87-21f0829f60c9"
      },
      "execution_count": 22,
      "outputs": [
        {
          "output_type": "stream",
          "name": "stdout",
          "text": [
            "   id  age  salary\n",
            "0   1   56   77191\n",
            "1   2   46   74131\n",
            "2   3   32   46023\n",
            "3   4   25   71090\n",
            "4   5   38   31685\n",
            "5   6   56   30769\n",
            "6   7   36   89735\n",
            "7   8   40   86101\n",
            "8   9   28   32433\n",
            "9  10   28   35311\n",
            "   id  age  salary\n",
            "7   8   40   86101\n",
            "8   9   28   32433\n",
            "9  10   28   35311\n"
          ]
        }
      ]
    },
    {
      "cell_type": "markdown",
      "source": [
        "## Answer Of Q8"
      ],
      "metadata": {
        "id": "rYJIWj0yqvRw"
      }
    },
    {
      "cell_type": "markdown",
      "source": [
        "Q8. Filter the DataFrame to show only employees who work in the IT department. Print the result and show the total number of IT employees.\n"
      ],
      "metadata": {
        "id": "qShp8DYEq9i2"
      }
    },
    {
      "cell_type": "code",
      "source": [
        "idf = df.loc[df['dept'] == 'IT']\n",
        "print(idf)\n",
        "print(\"Total Number of IT employees:\" ,len(idf))"
      ],
      "metadata": {
        "colab": {
          "base_uri": "https://localhost:8080/"
        },
        "id": "kz3QBQ-RrSeg",
        "outputId": "56e42ca2-98ef-4d16-8485-2b41ef60fbb2"
      },
      "execution_count": 25,
      "outputs": [
        {
          "output_type": "stream",
          "name": "stdout",
          "text": [
            "   id  age  salary dept\n",
            "1   2   46   74131   IT\n",
            "3   4   25   71090   IT\n",
            "7   8   40   86101   IT\n",
            "Total Number of IT employees: 3\n"
          ]
        }
      ]
    },
    {
      "cell_type": "markdown",
      "source": [
        "## Answer of Q9"
      ],
      "metadata": {
        "id": "F7GEVwv4r2TR"
      }
    },
    {
      "cell_type": "markdown",
      "source": [
        " Sort the DataFrame by salary in descending order and display the top 3 highest-paid employees along with their department and age.\n"
      ],
      "metadata": {
        "id": "S6_JJn_Ir5ok"
      }
    },
    {
      "cell_type": "code",
      "source": [
        "sdf = df.sort_values(by ='salary',ascending=False)\n",
        "print(sdf[['dept','age','salary']].head(3))"
      ],
      "metadata": {
        "colab": {
          "base_uri": "https://localhost:8080/"
        },
        "id": "eZUtUadFr896",
        "outputId": "a1bf2497-f269-4abc-875e-f92932fee0cb"
      },
      "execution_count": 37,
      "outputs": [
        {
          "output_type": "stream",
          "name": "stdout",
          "text": [
            "      dept  age  salary\n",
            "6  Finance   36   89735\n",
            "7       IT   40   86101\n",
            "0       HR   56   77191\n"
          ]
        }
      ]
    },
    {
      "cell_type": "markdown",
      "source": [
        "## Answer of Q10"
      ],
      "metadata": {
        "id": "j_-gkUODuY4K"
      }
    },
    {
      "cell_type": "markdown",
      "source": [
        "Q10. Replace all salary values greater than 80000 with 80000 using loc. Then calculate and print the new average salary of all employees after replacement.\n"
      ],
      "metadata": {
        "id": "xtcRgK18udTi"
      }
    },
    {
      "cell_type": "code",
      "source": [
        "df.loc[df[\"salary\"] > 80000, \"salary\"] = 80000\n",
        "avg_sal = df[\"salary\"].mean()\n",
        "print(avg_sal)"
      ],
      "metadata": {
        "colab": {
          "base_uri": "https://localhost:8080/"
        },
        "id": "Ijnn2v83uf4C",
        "outputId": "2074d696-e816-433b-b2a2-62fa1b05712c"
      },
      "execution_count": 47,
      "outputs": [
        {
          "output_type": "stream",
          "name": "stdout",
          "text": [
            "55863.3\n"
          ]
        }
      ]
    }
  ]
}